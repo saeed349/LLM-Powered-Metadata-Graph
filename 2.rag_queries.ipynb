{
 "cells": [
  {
   "cell_type": "code",
   "execution_count": 1,
   "metadata": {},
   "outputs": [
    {
     "data": {
      "text/plain": [
       "False"
      ]
     },
     "execution_count": 1,
     "metadata": {},
     "output_type": "execute_result"
    }
   ],
   "source": [
    "import warnings\n",
    "warnings.filterwarnings(\"ignore\")\n",
    "import os\n",
    "import pandas as pd\n",
    "import textwrap\n",
    "\n",
    "from langchain_community.graphs import Neo4jGraph\n",
    "from langchain_openai import ChatOpenAI\n",
    "from langchain_core.prompts import ChatPromptTemplate\n",
    "from langchain_core.output_parsers import StrOutputParser\n",
    "from langchain_community.vectorstores import Neo4jVector\n",
    "from langchain_openai import OpenAIEmbeddings\n",
    "from langchain.text_splitter import RecursiveCharacterTextSplitter\n",
    "from langchain.chains import RetrievalQAWithSourcesChain\n",
    "\n",
    "from dotenv import load_dotenv\n",
    "load_dotenv('.env', override=True)"
   ]
  },
  {
   "cell_type": "code",
   "execution_count": 2,
   "metadata": {},
   "outputs": [],
   "source": [
    "# Load from environment\n",
    "NEO4J_URI = os.getenv('NEO4J_URI')\n",
    "NEO4J_USERNAME = os.getenv('NEO4J_USERNAME')\n",
    "NEO4J_PASSWORD = os.getenv('NEO4J_PASSWORD')\n",
    "NEO4J_DATABASE = os.getenv('NEO4J_DATABASE')\n",
    "\n",
    "OPENAI_API_KEY = os.getenv('OPENAI_API_KEY')\n",
    "OPENAI_ENDPOINT = os.getenv('OPENAI_BASE_URL') + '/embeddings'\n",
    "\n",
    "os.environ[\"LANGCHAIN_TRACING_V2\"]=\"true\"\n",
    "os.environ[\"LANGCHAIN_API_KEY\"]=os.getenv(\"LANGCHAIN_API_KEY\")"
   ]
  },
  {
   "cell_type": "code",
   "execution_count": 3,
   "metadata": {},
   "outputs": [],
   "source": [
    "kg = Neo4jGraph(\n",
    "    url=NEO4J_URI, username=NEO4J_USERNAME, password=NEO4J_PASSWORD, database=NEO4J_DATABASE\n",
    ")"
   ]
  },
  {
   "cell_type": "code",
   "execution_count": 6,
   "metadata": {},
   "outputs": [],
   "source": [
    "# result = kg.query(\"\"\"\n",
    "# DROP INDEX embedded_index\n",
    "#   \"\"\"\n",
    "# )"
   ]
  },
  {
   "cell_type": "markdown",
   "metadata": {},
   "source": [
    "Creating a vector index on all nodes that has the embeddable tag"
   ]
  },
  {
   "cell_type": "code",
   "execution_count": null,
   "metadata": {},
   "outputs": [
    {
     "name": "stderr",
     "output_type": "stream",
     "text": [
      "Received notification from DBMS server: {severity: WARNING} {code: Neo.ClientNotification.Statement.FeatureDeprecationWarning} {category: DEPRECATION} {title: This feature is deprecated and will be removed in future versions.} {description: The query used a deprecated procedure. ('db.create.setVectorProperty' has been replaced by 'db.create.setNodeVectorProperty')} {position: line: 1, column: 72, offset: 71} for query: \"UNWIND $data AS row MATCH (n:`embeddable`) WHERE elementId(n) = row.id CALL db.create.setVectorProperty(n, 'embedding', row.embedding) YIELD node RETURN count(*)\"\n"
     ]
    }
   ],
   "source": [
    "neo4j_vector_store = Neo4jVector.from_existing_graph(\n",
    "    embedding=OpenAIEmbeddings(),\n",
    "    url=NEO4J_URI,\n",
    "    username=NEO4J_USERNAME,\n",
    "    password=NEO4J_PASSWORD,\n",
    "    index_name='embedded_index',\n",
    "    node_label='embeddable',\n",
    "    text_node_properties=['name','type','description','values'], \n",
    "    embedding_node_property='embedding',\n",
    ")"
   ]
  },
  {
   "cell_type": "code",
   "execution_count": 9,
   "metadata": {},
   "outputs": [
    {
     "data": {
      "text/plain": [
       "[(Document(page_content='\\nname: foot_traffic\\ntype: dataset\\ndescription: This dataset records foot traffic data to physical locations, measured by cell phone traffic, on a specific date. The data includes information on unique places, identified by an ID, name, postal code, and coordinates, along with the number of visits and unique visitors recorded.\\nvalues: ', metadata={'source': 'snowflake', 'table': 'graph_db.public.foot_traffic'}),\n",
       "  0.9328018426895142),\n",
       " (Document(page_content='\\nname: latitude\\ntype: column\\ndescription: Latitude of the location where foot traffic was measured.\\nvalues: 54.25,53.2', metadata={'source': 'foot_traffic', 'col_type': 'reference'}),\n",
       "  0.9026437997817993),\n",
       " (Document(page_content='\\nname: web_traffic\\ntype: dataset\\ndescription: This dataset tracks web traffic to various websites, capturing the number of visits and unique visitors over time. It includes information on the date, website, visit counts, and details about the websites brand and owner.\\nvalues: ', metadata={'source': 'snowflake', 'table': 'graph_db.public.web_traffic'}),\n",
       "  0.9021803140640259),\n",
       " (Document(page_content='\\nname: longitude\\ntype: column\\ndescription: Longitude of the location where foot traffic was measured.\\nvalues: 10.52,10.5,10.11', metadata={'source': 'foot_traffic', 'col_type': 'reference'}),\n",
       "  0.8978052139282227)]"
      ]
     },
     "execution_count": 9,
     "metadata": {},
     "output_type": "execute_result"
    }
   ],
   "source": [
    "question = 'Show me the foot traffic dataset'\n",
    "response = neo4j_vector_store.similarity_search_with_score(question)\n",
    "response"
   ]
  },
  {
   "cell_type": "code",
   "execution_count": 50,
   "metadata": {},
   "outputs": [
    {
     "data": {
      "text/plain": [
       "[Document(page_content='\\nname: zip_code\\ntype: column\\ndescription: ZIP code of the location where the data was collected.\\nvalues: 10001', metadata={'source': 'weather', 'col_type': 'reference'}),\n",
       " Document(page_content='\\nname: post_code\\ntype: column\\ndescription: Postal code where the location is situated.\\nvalues: 10001,73070', metadata={'source': 'foot_traffic', 'col_type': 'reference'}),\n",
       " Document(page_content='\\nname: country\\ntype: column\\ndescription: Country code where the data was collected.\\nvalues: US', metadata={'source': 'weather', 'col_type': 'reference'}),\n",
       " Document(page_content='\\nname: country\\ntype: column\\ndescription: Country code where the location is situated.\\nvalues: US', metadata={'source': 'foot_traffic', 'col_type': 'reference'}),\n",
       " Document(page_content='\\nname: weather\\ntype: dataset\\ndescription: This dataset contains weather-related data for the US, spanning from 2000 to December 2023. It includes information on the date, location (by DMA name, state abbreviation, country, and ZIP code), and various weather parameters such as feels-like maximum temperature, average relative humidity, and minimum snow depth.\\nvalues: ', metadata={'source': 'snowflake', 'table': 'graph_db.public.weather'})]"
      ]
     },
     "execution_count": 50,
     "metadata": {},
     "output_type": "execute_result"
    }
   ],
   "source": [
    "question = 'Show me the zip code columns'\n",
    "response = neo4j_vector_store.similarity_search(question,k=5)\n",
    "response"
   ]
  },
  {
   "cell_type": "code",
   "execution_count": 51,
   "metadata": {},
   "outputs": [
    {
     "data": {
      "text/plain": [
       "[Document(page_content='\\nname: foot_traffic\\ntype: dataset\\ndescription: This dataset records foot traffic data to physical locations, measured by cell phone traffic, on a specific date. The data includes information on unique places, identified by an ID, name, postal code, and coordinates, along with the number of visits and unique visitors recorded.\\nvalues: ', metadata={'source': 'snowflake', 'table': 'graph_db.public.foot_traffic'}),\n",
       " Document(page_content='\\nname: latitude\\ntype: column\\ndescription: Latitude of the location where foot traffic was measured.\\nvalues: 54.25,53.2', metadata={'source': 'foot_traffic', 'col_type': 'reference'}),\n",
       " Document(page_content='\\nname: longitude\\ntype: column\\ndescription: Longitude of the location where foot traffic was measured.\\nvalues: 10.52,10.5,10.11', metadata={'source': 'foot_traffic', 'col_type': 'reference'}),\n",
       " Document(page_content='\\nname: web_traffic\\ntype: dataset\\ndescription: This dataset tracks web traffic to various websites, capturing the number of visits and unique visitors over time. It includes information on the date, website, visit counts, and details about the websites brand and owner.\\nvalues: ', metadata={'source': 'snowflake', 'table': 'graph_db.public.web_traffic'}),\n",
       " Document(page_content='\\nname: location_name\\ntype: column\\ndescription: Name of the physical location where foot traffic was measured.\\nvalues: starbucks_51st street,cvs_hoboken', metadata={'source': 'foot_traffic', 'col_type': 'reference'})]"
      ]
     },
     "execution_count": 51,
     "metadata": {},
     "output_type": "execute_result"
    }
   ],
   "source": [
    "question = 'Show me all the columns of the foot traffic dataset'\n",
    "response = neo4j_vector_store.similarity_search(question,k=5)\n",
    "response"
   ]
  },
  {
   "cell_type": "code",
   "execution_count": 10,
   "metadata": {},
   "outputs": [],
   "source": [
    "chain = RetrievalQAWithSourcesChain.from_chain_type(\n",
    "    #llm = ChatOpenAI(model='gpt-4',temperature=0), \n",
    "    llm = ChatOpenAI(temperature=0), \n",
    "    chain_type=\"stuff\", \n",
    "    retriever=neo4j_vector_store.as_retriever(search_kwargs={'k': 4})\n",
    ")\n",
    "def prettychain(question: str) -> str:\n",
    "    \"\"\"Pretty print the chain's response to a question\"\"\"\n",
    "    response = chain({\"question\": question},\n",
    "        return_only_outputs=True,)\n",
    "    print(textwrap.fill(response['answer'], 60))"
   ]
  },
  {
   "cell_type": "code",
   "execution_count": 12,
   "metadata": {},
   "outputs": [
    {
     "name": "stdout",
     "output_type": "stream",
     "text": [
      "There are two columns with names similar to zip code:\n",
      "zip_code and post_code.\n"
     ]
    }
   ],
   "source": [
    "question = \"Show me all the columns with column name similar to zip code\"\n",
    "prettychain(question)"
   ]
  },
  {
   "cell_type": "code",
   "execution_count": 13,
   "metadata": {},
   "outputs": [
    {
     "name": "stdout",
     "output_type": "stream",
     "text": [
      "The dataset that contains information about the climate is\n",
      "named \"weather\" and includes weather-related data for the US\n",
      "from 2000 to December 2023, with details on various weather\n",
      "parameters.\n"
     ]
    }
   ],
   "source": [
    "question = \"Show me the dataset that has some info about the climate\"\n",
    "prettychain(question)"
   ]
  },
  {
   "cell_type": "code",
   "execution_count": null,
   "metadata": {},
   "outputs": [],
   "source": [
    "question = 'Show me all the columns of the foot traffic dataset'\n",
    "prettychain(question)"
   ]
  },
  {
   "cell_type": "markdown",
   "metadata": {},
   "source": [
    "Here we can see that not all columns are being fetched here since we are looking at just the semantic similarity."
   ]
  },
  {
   "cell_type": "markdown",
   "metadata": {},
   "source": [
    "### Advanced Retrieval Queries\n",
    "In the initial example, retrieval relies on the semantic similarity between the nodes and the query, which doesn't require a graph database and we can easily achieve that with a vector database. However, the true strength of graph databases lies in utilizing the relationships between nodes. Therefore, we can create a custom retrieval-augmented generation (RAG) query for our retriever. This query will not only fetch the closest semantically similar nodes based on embeddings but also retrieve the column nodes directly connected to these nodes."
   ]
  },
  {
   "cell_type": "code",
   "execution_count": 14,
   "metadata": {},
   "outputs": [],
   "source": [
    "contextualize_query = \"\"\"\n",
    "match (node)-[:HAS_COLUMN]->(c:column)\n",
    "with ('name:'+ node.name +'\\n'+'type:'+node.type+'\\n'+'description:'+node.description) as self,\n",
    "reduce(s=\"\", item in collect(c) | s + \"\\n\\n\" + 'name:'+item.name +'\\n'+ 'description:'+item.description +'\\n'+ 'type:'+item.type +'\\n'+ 'col_type:'+item.col_type ) as c_name,\n",
    "score, {source: ' '} as metadata limit 1\n",
    "return (self +'\\n'+ c_name) as text, score, metadata  \n",
    "\"\"\""
   ]
  },
  {
   "cell_type": "code",
   "execution_count": 15,
   "metadata": {},
   "outputs": [],
   "source": [
    "neo4j_vector_store = Neo4jVector.from_existing_index(\n",
    "    embedding=OpenAIEmbeddings(),\n",
    "    url=NEO4J_URI,\n",
    "    username=NEO4J_USERNAME,\n",
    "    password=NEO4J_PASSWORD,\n",
    "    index_name='embedded_index',\n",
    "    retrieval_query = contextualize_query\n",
    ")"
   ]
  },
  {
   "cell_type": "code",
   "execution_count": null,
   "metadata": {},
   "outputs": [],
   "source": [
    "chain = RetrievalQAWithSourcesChain.from_chain_type(\n",
    "    #llm = ChatOpenAI(model='gpt-4',temperature=0), \n",
    "    llm = ChatOpenAI(temperature=0), \n",
    "    chain_type=\"stuff\", \n",
    "    retriever=neo4j_vector_store.as_retriever(search_kwargs={'k': 4})\n",
    ")\n",
    "def prettychain(question: str) -> str:\n",
    "    \"\"\"Pretty print the chain's response to a question\"\"\"\n",
    "    response = chain({\"question\": question},\n",
    "        return_only_outputs=True,)\n",
    "    print(textwrap.fill(response['answer'], 60))"
   ]
  },
  {
   "cell_type": "code",
   "execution_count": 16,
   "metadata": {},
   "outputs": [
    {
     "data": {
      "text/plain": [
       "[Document(page_content='name:foot_traffic\\ntype:dataset\\ndescription:This dataset records foot traffic data to physical locations, measured by cell phone traffic, on a specific date. The data includes information on unique places, identified by an ID, name, postal code, and coordinates, along with the number of visits and unique visitors recorded.\\n\\n\\nname:date\\ndescription:Date of the foot traffic measurement in month/day/year format.\\ntype:column\\ncol_type:feature\\n\\nname:sg_place_id\\ndescription:Vendor unique identifier for each location.\\ntype:column\\ncol_type:reference\\n\\nname:location_name\\ndescription:Name of the physical location where foot traffic was measured.\\ntype:column\\ncol_type:reference\\n\\nname:post_code\\ndescription:Postal code where the location is situated.\\ntype:column\\ncol_type:reference\\n\\nname:country\\ndescription:Country code where the location is situated.\\ntype:column\\ncol_type:reference\\n\\nname:symbol\\ndescription:Stock symbol or identifier for the business.\\ntype:column\\ncol_type:reference\\n\\nname:longitude\\ndescription:Longitude of the location where foot traffic was measured.\\ntype:column\\ncol_type:reference\\n\\nname:latitude\\ndescription:Latitude of the location where foot traffic was measured.\\ntype:column\\ncol_type:reference\\n\\nname:visits\\ndescription:Total number of visits recorded at the location on the specified date.\\ntype:column\\ncol_type:feature\\n\\nname:unique_visitors\\ndescription:Number of unique visitors recorded at the location on the specified date.\\ntype:column\\ncol_type:feature', metadata={'source': ' '})]"
      ]
     },
     "execution_count": 16,
     "metadata": {},
     "output_type": "execute_result"
    }
   ],
   "source": [
    "question = 'Show all the columns of the foot traffic dataset'\n",
    "response = neo4j_vector_store.similarity_search(question,k=5)\n",
    "response"
   ]
  },
  {
   "cell_type": "code",
   "execution_count": 17,
   "metadata": {},
   "outputs": [
    {
     "name": "stdout",
     "output_type": "stream",
     "text": [
      "name:foot_traffic\n",
      "type:dataset\n",
      "description:This dataset records foot traffic data to physical locations, measured by cell phone traffic, on a specific date. The data includes information on unique places, identified by an ID, name, postal code, and coordinates, along with the number of visits and unique visitors recorded.\n",
      "\n",
      "\n",
      "name:date\n",
      "description:Date of the foot traffic measurement in month/day/year format.\n",
      "type:column\n",
      "col_type:feature\n",
      "\n",
      "name:sg_place_id\n",
      "description:Vendor unique identifier for each location.\n",
      "type:column\n",
      "col_type:reference\n",
      "\n",
      "name:location_name\n",
      "description:Name of the physical location where foot traffic was measured.\n",
      "type:column\n",
      "col_type:reference\n",
      "\n",
      "name:post_code\n",
      "description:Postal code where the location is situated.\n",
      "type:column\n",
      "col_type:reference\n",
      "\n",
      "name:country\n",
      "description:Country code where the location is situated.\n",
      "type:column\n",
      "col_type:reference\n",
      "\n",
      "name:symbol\n",
      "description:Stock symbol or identifier for the business.\n",
      "type:column\n",
      "col_type:reference\n",
      "\n",
      "name:longitude\n",
      "description:Longitude of the location where foot traffic was measured.\n",
      "type:column\n",
      "col_type:reference\n",
      "\n",
      "name:latitude\n",
      "description:Latitude of the location where foot traffic was measured.\n",
      "type:column\n",
      "col_type:reference\n",
      "\n",
      "name:visits\n",
      "description:Total number of visits recorded at the location on the specified date.\n",
      "type:column\n",
      "col_type:feature\n",
      "\n",
      "name:unique_visitors\n",
      "description:Number of unique visitors recorded at the location on the specified date.\n",
      "type:column\n",
      "col_type:feature\n"
     ]
    }
   ],
   "source": [
    "print(response[0].page_content)"
   ]
  },
  {
   "cell_type": "code",
   "execution_count": 18,
   "metadata": {},
   "outputs": [],
   "source": [
    "chain = RetrievalQAWithSourcesChain.from_chain_type(\n",
    "    #llm = ChatOpenAI(model='gpt-4',temperature=0), \n",
    "    llm = ChatOpenAI(temperature=0), \n",
    "    chain_type=\"stuff\", \n",
    "    retriever=neo4j_vector_store.as_retriever(search_kwargs={'k': 4})\n",
    ")\n",
    "def prettychain(question: str) -> str:\n",
    "    \"\"\"Pretty print the chain's response to a question\"\"\"\n",
    "    response = chain({\"question\": question},\n",
    "        return_only_outputs=True,)\n",
    "    print(textwrap.fill(response['answer'], 60))"
   ]
  },
  {
   "cell_type": "code",
   "execution_count": 19,
   "metadata": {},
   "outputs": [
    {
     "name": "stdout",
     "output_type": "stream",
     "text": [
      "The columns of the foot traffic dataset are: date,\n",
      "sg_place_id, location_name, post_code, country, symbol,\n",
      "longitude, latitude, visits, unique_visitors.\n"
     ]
    }
   ],
   "source": [
    "question = 'Show me all the columns of the foot traffic dataset'\n",
    "prettychain(question)"
   ]
  },
  {
   "cell_type": "markdown",
   "metadata": {},
   "source": [
    "Now we can see that all the columns are properly fetched"
   ]
  }
 ],
 "metadata": {
  "kernelspec": {
   "display_name": "conda38",
   "language": "python",
   "name": "python3"
  },
  "language_info": {
   "codemirror_mode": {
    "name": "ipython",
    "version": 3
   },
   "file_extension": ".py",
   "mimetype": "text/x-python",
   "name": "python",
   "nbconvert_exporter": "python",
   "pygments_lexer": "ipython3",
   "version": "3.8.16"
  }
 },
 "nbformat": 4,
 "nbformat_minor": 2
}
